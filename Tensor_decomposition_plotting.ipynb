{
 "cells": [
  {
   "cell_type": "code",
   "execution_count": null,
   "metadata": {},
   "outputs": [],
   "source": [
    "from ckine.tensor_generation import findy, activity_surf_tot\n",
    "y_of_combinations, new_mat, mat, mats, cell_names = findy(2)\n",
    "values = activity_surf_tot(y_of_combinations)"
   ]
  },
  {
   "cell_type": "code",
   "execution_count": null,
   "metadata": {},
   "outputs": [],
   "source": [
    "import numpy as np\n",
    "y_of_combinations.shape == np.array([544,1000,56])"
   ]
  },
  {
   "cell_type": "code",
   "execution_count": null,
   "metadata": {},
   "outputs": [],
   "source": [
    "from ckine.Tensor_analysis import perform_decomposition, plot_values_decomposition, plot_timepoint_decomp, plot_combo_decomp, plot_low_high\n",
    "%matplotlib inline\n",
    "\n",
    "#Actually Apply these functions and see the plots\n",
    "factors = perform_decomposition(values , 8)\n",
    "plot_values_decomposition(factors,7,8);\n",
    "plot_timepoint_decomp(factors,1,2);\n",
    "plot_low_high(factors, new_mat, 1, 2);\n",
    "plot_combo_decomp(factors,mat, 1,2,cell_names);"
   ]
  },
  {
   "cell_type": "code",
   "execution_count": null,
   "metadata": {},
   "outputs": [],
   "source": [
    "from ckine.Tensor_analysis import plot_R2X\n",
    "plot_R2X(values, 16);"
   ]
  },
  {
   "cell_type": "code",
   "execution_count": null,
   "metadata": {},
   "outputs": [],
   "source": [
    "%matplotlib inline\n",
    "import matplotlib.pyplot as plt\n",
    "\n",
    "for i in range(1,8):\n",
    "    plot_timepoint_decomp(factors,i,i+1);\n"
   ]
  },
  {
   "cell_type": "code",
   "execution_count": null,
   "metadata": {},
   "outputs": [],
   "source": [
    "%matplotlib inline\n",
    "import matplotlib.pyplot as plt\n",
    "\n",
    "for i in range(1,8):\n",
    "    plot_values_decomposition(factors,i,i+1);"
   ]
  },
  {
   "cell_type": "code",
   "execution_count": null,
   "metadata": {},
   "outputs": [],
   "source": [
    "from ckine.Tensor_analysis import calculate_correlation\n",
    "dz = calculate_correlation(values,mats,8)"
   ]
  },
  {
   "cell_type": "code",
   "execution_count": null,
   "metadata": {},
   "outputs": [],
   "source": [
    "dz"
   ]
  },
  {
   "cell_type": "code",
   "execution_count": null,
   "metadata": {},
   "outputs": [],
   "source": []
  }
 ],
 "metadata": {
  "kernelspec": {
   "display_name": "Python 3",
   "language": "python",
   "name": "python3"
  },
  "language_info": {
   "codemirror_mode": {
    "name": "ipython",
    "version": 3
   },
   "file_extension": ".py",
   "mimetype": "text/x-python",
   "name": "python",
   "nbconvert_exporter": "python",
   "pygments_lexer": "ipython3",
   "version": "3.6.5"
  }
 },
 "nbformat": 4,
 "nbformat_minor": 2
}
