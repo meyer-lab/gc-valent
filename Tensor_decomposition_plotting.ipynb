{
 "cells": [
  {
   "cell_type": "code",
   "execution_count": 204,
   "metadata": {},
   "outputs": [
    {
     "name": "stderr",
     "output_type": "stream",
     "text": [
      "100%|██████████| 2176/2176 [00:02<00:00, 1010.61it/s]\n"
     ]
    }
   ],
   "source": [
    "from ckine.tensor_generation import findy, activity_surf_tot\n",
    "y_of_combinations, new_mat, mat, mats, cell_names = findy(2)"
   ]
  },
  {
   "cell_type": "code",
   "execution_count": 205,
   "metadata": {},
   "outputs": [],
   "source": [
    "values = activity_surf_tot(y_of_combinations)"
   ]
  },
  {
   "cell_type": "code",
   "execution_count": 251,
   "metadata": {},
   "outputs": [],
   "source": [
    "#Function the finds values without having to loop over and over\n",
    "from ckine.model import halfL\n",
    "import numpy as np\n",
    "def reduce_values(y_of_combos):\n",
    "    active_list = [np.array([7,8]),np.array([14,15]), np.array([18]),np.array([21]),np.array([24]),np.array([27])] #active indices for all receptors relative to cytokine\n",
    "    internalStrength = 0.5\n",
    "    values = np.zeros((y_of_combos.shape[0],y_of_combos.shape[1],22))\n",
    "    indices = [np.array([0, 3, 5, 6, 8]), np.array([1, 4, 5, 7, 8, 11, 12, 14, 15]), np.array([2, 6, 7, 8, 13, 14, 15, 18, 21]), np.array([9, 10, 12, 13, 15]), np.array([16, 17, 18]), np.array([19, 20, 21]), np.array([22, 23, 24]),np.array([25, 26, 27])]\n",
    "    for i in range(6): #first 6 total active cytokines\n",
    "        values[:,:,i] = np.sum(y_of_combos[:,:,active_list[i]], axis = 2) + internalStrength * np.sum(y_of_combos[:,:,halfL():halfL()*2][:,:,active_list[i]], axis = 2)\n",
    "    for j in range(len(indices)):\n",
    "        values[:,:,6+j] = np.sum(y_of_combos[:,:,indices[j]], axis = 2)\n",
    "    for k in range(len(indices)):\n",
    "        values[:,:,6+len(indices)+k] = values[:,:,6+k] + internalStrength * np.sum(y_of_combos[:,:,halfL():halfL()*2][:,:,indices[k]], axis = 2)\n",
    "    return values"
   ]
  },
  {
   "cell_type": "code",
   "execution_count": 252,
   "metadata": {},
   "outputs": [],
   "source": [
    "bs = reduce_values(y_of_combinations)"
   ]
  },
  {
   "cell_type": "code",
   "execution_count": 258,
   "metadata": {},
   "outputs": [
    {
     "name": "stdout",
     "output_type": "stream",
     "text": [
      "[1.97706693e+00 2.85328277e-04 8.66115500e-03 1.03444750e-01\n",
      " 6.59187272e+00 1.41639090e+04 1.47921764e+02 9.85999598e+00\n",
      " 3.24355209e+04 2.41899000e+04 9.75452415e+02 5.47067998e+02\n",
      " 4.28022664e+04 2.98664087e+04 2.95843941e+02 1.99864469e+01\n",
      " 7.45249637e+04 4.83798000e+04 1.95090594e+03 1.09414537e+03\n",
      " 8.56051566e+04 6.15831223e+04]\n",
      "Space\n",
      "[2.25067243e+00 3.73913094e-04 8.66115500e-03 1.03444750e-01\n",
      " 6.59187272e+00 1.41639090e+04 1.47921764e+02 9.85999598e+00\n",
      " 3.24355209e+04 2.41899000e+04 9.75452415e+02 5.47067998e+02\n",
      " 4.28022664e+04 2.98664087e+04 2.95843941e+02 1.99864469e+01\n",
      " 7.45249637e+04 4.83798000e+04 1.95090594e+03 1.09414537e+03\n",
      " 8.56051566e+04 6.15831223e+04]\n",
      "Space\n",
      "[False False  True  True  True  True  True  True  True  True  True  True\n",
      "  True  True  True  True False  True  True  True  True  True]\n"
     ]
    }
   ],
   "source": [
    "print(bs[34,6])\n",
    "print('Space')\n",
    "print(values[34,6])\n",
    "print('Space')\n",
    "print(bs[34,6]==values[34,6])\n",
    "#print(bs == values)"
   ]
  },
  {
   "cell_type": "code",
   "execution_count": null,
   "metadata": {},
   "outputs": [],
   "source": [
    "from ckine.Tensor_analysis import perform_decomposition, plot_values_decomposition, plot_timepoint_decomp, plot_combo_decomp, plot_low_high\n",
    "%matplotlib inline\n",
    "\n",
    "#Actually Apply these functions and see the plots\n",
    "factors = perform_decomposition(values , 8)\n",
    "plot_values_decomposition(factors,7,8);\n",
    "plot_timepoint_decomp(factors,1,2);\n",
    "plot_low_high(factors, new_mat, 1, 2);\n",
    "plot_combo_decomp(factors,mat, 1,2,cell_names);"
   ]
  },
  {
   "cell_type": "code",
   "execution_count": null,
   "metadata": {},
   "outputs": [],
   "source": [
    "from ckine.Tensor_analysis import plot_R2X\n",
    "plot_R2X(values, 16);"
   ]
  },
  {
   "cell_type": "code",
   "execution_count": null,
   "metadata": {},
   "outputs": [],
   "source": [
    "%matplotlib inline\n",
    "import matplotlib.pyplot as plt\n",
    "\n",
    "for i in range(1,8):\n",
    "    plot_timepoint_decomp(factors,i,i+1);\n"
   ]
  },
  {
   "cell_type": "code",
   "execution_count": null,
   "metadata": {},
   "outputs": [],
   "source": [
    "%matplotlib inline\n",
    "import matplotlib.pyplot as plt\n",
    "\n",
    "for i in range(1,8):\n",
    "    plot_values_decomposition(factors,i,i+1);"
   ]
  },
  {
   "cell_type": "code",
   "execution_count": null,
   "metadata": {},
   "outputs": [],
   "source": [
    "from ckine.Tensor_analysis import calculate_correlation\n",
    "dz = calculate_correlation(values,mats,8)"
   ]
  },
  {
   "cell_type": "code",
   "execution_count": null,
   "metadata": {},
   "outputs": [],
   "source": [
    "dz"
   ]
  },
  {
   "cell_type": "code",
   "execution_count": null,
   "metadata": {},
   "outputs": [],
   "source": []
  }
 ],
 "metadata": {
  "kernelspec": {
   "display_name": "Python 3",
   "language": "python",
   "name": "python3"
  },
  "language_info": {
   "codemirror_mode": {
    "name": "ipython",
    "version": 3
   },
   "file_extension": ".py",
   "mimetype": "text/x-python",
   "name": "python",
   "nbconvert_exporter": "python",
   "pygments_lexer": "ipython3",
   "version": "3.6.5"
  }
 },
 "nbformat": 4,
 "nbformat_minor": 2
}
