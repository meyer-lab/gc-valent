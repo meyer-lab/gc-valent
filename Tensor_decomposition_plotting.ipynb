{
 "cells": [
  {
   "cell_type": "code",
   "execution_count": null,
   "metadata": {},
   "outputs": [],
   "source": [
    "from ckine.tensor_generation import prepare_tensor\n",
    "values = prepare_tensor(2)[0]"
   ]
  },
  {
   "cell_type": "code",
   "execution_count": null,
   "metadata": {},
   "outputs": [],
   "source": [
    "from ckine.Tensor_analysis import perform_decomposition, plot_values_decomposition, plot_timepoint_decomp, plot_combo_decomp, plot_low_high\n",
    "%matplotlib inline\n",
    "\n",
    "#Actually Apply these functions and see the plots\n",
    "factors = perform_decomposition(values , 6)"
   ]
  },
  {
   "cell_type": "code",
   "execution_count": null,
   "metadata": {},
   "outputs": [],
   "source": [
    "print(weights)"
   ]
  },
  {
   "cell_type": "code",
   "execution_count": null,
   "metadata": {},
   "outputs": [],
   "source": [
    "import numpy as np\n",
    "for jj in range(1,6+1):\n",
    "    a, b, c, d = np.delete(factors[0],np.s_[jj::],axis = 1 ), np.delete(factors[1],np.s_[jj::],axis = 1), np.delete(factors[2],np.s_[jj::],axis = 1), np.delete(factors[3],np.s_[jj::],axis = 1) \n",
    "    print(b.shape)"
   ]
  },
  {
   "cell_type": "code",
   "execution_count": null,
   "metadata": {},
   "outputs": [],
   "source": [
    "from ckine.Tensor_analysis import fast_find_R2X\n",
    "R2X_list = fast_find_R2X(values, 6)"
   ]
  },
  {
   "cell_type": "code",
   "execution_count": null,
   "metadata": {},
   "outputs": [],
   "source": [
    "print(R2X_list)"
   ]
  },
  {
   "cell_type": "code",
   "execution_count": null,
   "metadata": {},
   "outputs": [],
   "source": [
    "import numpy as np\n",
    "a = np.random.rand(3,4)\n",
    "print(a)\n",
    "print('SPACE')\n",
    "b = np.delete(a,np.s_[4::],axis = 1 )\n",
    "print(b)"
   ]
  },
  {
   "cell_type": "code",
   "execution_count": null,
   "metadata": {},
   "outputs": [],
   "source": [
    "#plot_values_decomposition(factors,7,8);\n",
    "plot_timepoint_decomp(factors,1,2);\n",
    "plot_low_high(factors, new_mat, 1, 2);\n",
    "plot_combo_decomp(factors,mat, 1,2,cell_names);"
   ]
  },
  {
   "cell_type": "code",
   "execution_count": null,
   "metadata": {},
   "outputs": [],
   "source": [
    "from ckine.Tensor_analysis import plot_R2X\n",
    "plot_R2X(values, 9)"
   ]
  },
  {
   "cell_type": "code",
   "execution_count": null,
   "metadata": {},
   "outputs": [],
   "source": [
    "%matplotlib inline\n",
    "import matplotlib.pyplot as plt\n",
    "\n",
    "for i in range(1,8):\n",
    "    plot_timepoint_decomp(factors,i,i+1);"
   ]
  },
  {
   "cell_type": "code",
   "execution_count": null,
   "metadata": {},
   "outputs": [],
   "source": [
    "%matplotlib inline\n",
    "import matplotlib.pyplot as plt\n",
    "for i in range(1,8):\n",
    "    plot_values_decomposition(factors,i,i+1);"
   ]
  },
  {
   "cell_type": "code",
   "execution_count": null,
   "metadata": {},
   "outputs": [],
   "source": [
    "from ckine.Tensor_analysis import calculate_correlation\n",
    "dz = calculate_correlation(values,mats,8)"
   ]
  },
  {
   "cell_type": "code",
   "execution_count": null,
   "metadata": {},
   "outputs": [],
   "source": [
    "dz"
   ]
  },
  {
   "cell_type": "code",
   "execution_count": null,
   "metadata": {},
   "outputs": [],
   "source": [
    "import numpy as np\n",
    "myarray = np.random.rand(8,3,4)\n",
    "print(myarray)"
   ]
  },
  {
   "cell_type": "code",
   "execution_count": null,
   "metadata": {},
   "outputs": [],
   "source": [
    "prepared_tensor = np.zeros((3,4,2,4))\n",
    "#print(prepared_tensor)"
   ]
  },
  {
   "cell_type": "code",
   "execution_count": null,
   "metadata": {},
   "outputs": [],
   "source": [
    "easy_tensor = np.zeros_like(prepared_tensor)\n",
    "for i in range(prepared_tensor.shape[0]):\n",
    "    easy_tensor[i] = myarray[:,i,:].reshape(prepared_tensor.shape[1:4])\n",
    "print(easy_tensor)"
   ]
  },
  {
   "cell_type": "code",
   "execution_count": null,
   "metadata": {},
   "outputs": [],
   "source": []
  }
 ],
 "metadata": {
  "kernelspec": {
   "display_name": "Python 3",
   "language": "python",
   "name": "python3"
  },
  "language_info": {
   "codemirror_mode": {
    "name": "ipython",
    "version": 3
   },
   "file_extension": ".py",
   "mimetype": "text/x-python",
   "name": "python",
   "nbconvert_exporter": "python",
   "pygments_lexer": "ipython3",
   "version": "3.6.5"
  }
 },
 "nbformat": 4,
 "nbformat_minor": 2
}
