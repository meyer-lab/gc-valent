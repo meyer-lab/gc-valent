{
 "cells": [
  {
   "cell_type": "code",
   "execution_count": 1,
   "metadata": {},
   "outputs": [],
   "source": [
    "import numpy as np"
   ]
  },
  {
   "cell_type": "code",
   "execution_count": 2,
   "metadata": {},
   "outputs": [
    {
     "data": {
      "text/plain": [
       "array([[[0.39503151, 0.43104139, 0.27345228, 0.99610927],\n",
       "        [0.16779887, 0.06091014, 0.39088709, 0.62807477],\n",
       "        [0.86705089, 0.12368452, 0.28697726, 0.94797485]],\n",
       "\n",
       "       [[0.85852942, 0.36675138, 0.35829993, 0.93587289],\n",
       "        [0.02663264, 0.42216133, 0.7434559 , 0.84404902],\n",
       "        [0.33790182, 0.70029435, 0.27305501, 0.08063525]]])"
      ]
     },
     "execution_count": 2,
     "metadata": {},
     "output_type": "execute_result"
    }
   ],
   "source": [
    "tensor = np.random.rand(2,3,4)\n",
    "tensor"
   ]
  },
  {
   "cell_type": "code",
   "execution_count": 3,
   "metadata": {},
   "outputs": [
    {
     "name": "stderr",
     "output_type": "stream",
     "text": [
      "Using numpy backend.\n",
      "Using numpy backend.\n"
     ]
    },
    {
     "data": {
      "text/plain": [
       "array([[[1.41637844, 1.54549125, 0.9804583 , 3.57153205],\n",
       "        [0.57760685, 0.20966834, 1.3455338 , 2.16199475],\n",
       "        [2.74549049, 0.39164329, 0.90870483, 3.00173379]],\n",
       "\n",
       "       [[3.07824194, 1.31498054, 1.28467803, 3.35555558],\n",
       "        [0.09167638, 1.45318778, 2.55916626, 2.90543362],\n",
       "        [1.06995592, 2.21746096, 0.86462046, 0.25532909]]])"
      ]
     },
     "execution_count": 3,
     "metadata": {},
     "output_type": "execute_result"
    }
   ],
   "source": [
    "from ckine.Tensor_analysis import z_score_values\n",
    "scored_tensor = z_score_values(tensor)\n",
    "scored_tensor"
   ]
  },
  {
   "cell_type": "code",
   "execution_count": 4,
   "metadata": {},
   "outputs": [],
   "source": [
    "def z_score_old(A, subtract = True):\n",
    "    '''Function that takes in the values tensor and z-scores it.'''\n",
    "    B = np.zeros_like(A)\n",
    "    for i in range(A.shape[2]):\n",
    "        slice_face = A[:,:,i]\n",
    "        mu = np.mean(slice_face)\n",
    "        sigma = np.std(slice_face)\n",
    "        if subtract is True:\n",
    "            z_scored_slice = (slice_face - mu) / sigma\n",
    "        elif subtract is False:\n",
    "            z_scored_slice = slice_face / sigma\n",
    "        B[:,:,i] = z_scored_slice\n",
    "    return B"
   ]
  },
  {
   "cell_type": "code",
   "execution_count": 5,
   "metadata": {},
   "outputs": [
    {
     "data": {
      "text/plain": [
       "array([[[-0.14720608,  0.37854366, -0.69143219,  0.81014511],\n",
       "        [-0.85700566, -1.36772945,  0.0193636 , -0.34855834],\n",
       "        [ 1.3272263 , -1.07156097, -0.60956979,  0.65860086]],\n",
       "\n",
       "       [[ 1.30060804,  0.07522444, -0.17787617,  0.62049957],\n",
       "        [-1.29796228,  0.33664767,  2.15335131,  0.33140539],\n",
       "        [-0.32566033,  1.64887464, -0.69383675, -2.07209258]]])"
      ]
     },
     "execution_count": 5,
     "metadata": {},
     "output_type": "execute_result"
    }
   ],
   "source": [
    "scored_old_tensor = z_score_old(tensor)\n",
    "scored_old_tensor"
   ]
  },
  {
   "cell_type": "code",
   "execution_count": null,
   "metadata": {},
   "outputs": [],
   "source": []
  }
 ],
 "metadata": {
  "kernelspec": {
   "display_name": "Python 3",
   "language": "python",
   "name": "python3"
  },
  "language_info": {
   "codemirror_mode": {
    "name": "ipython",
    "version": 3
   },
   "file_extension": ".py",
   "mimetype": "text/x-python",
   "name": "python",
   "nbconvert_exporter": "python",
   "pygments_lexer": "ipython3",
   "version": "3.7.3"
  }
 },
 "nbformat": 4,
 "nbformat_minor": 2
}
