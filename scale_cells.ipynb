{
 "cells": [
  {
   "cell_type": "code",
   "execution_count": 1,
   "metadata": {},
   "outputs": [],
   "source": [
    "import numpy as np"
   ]
  },
  {
   "cell_type": "code",
   "execution_count": 2,
   "metadata": {},
   "outputs": [
    {
     "data": {
      "text/plain": [
       "array([[[0.01729587, 0.23218691, 0.70242239, 0.61169816],\n",
       "        [0.87904173, 0.13135397, 0.47836022, 0.69071776],\n",
       "        [0.55130481, 0.99702826, 0.18412538, 0.56819259]],\n",
       "\n",
       "       [[0.65557678, 0.0781939 , 0.38061743, 0.58692927],\n",
       "        [0.58287652, 0.5300814 , 0.63276904, 0.9211471 ],\n",
       "        [0.25602048, 0.60368495, 0.89087017, 0.36401205]]])"
      ]
     },
     "execution_count": 2,
     "metadata": {},
     "output_type": "execute_result"
    }
   ],
   "source": [
    "tensor = np.random.rand(2,3,4)\n",
    "tensor"
   ]
  },
  {
   "cell_type": "code",
   "execution_count": 3,
   "metadata": {},
   "outputs": [
    {
     "name": "stderr",
     "output_type": "stream",
     "text": [
      "Using numpy backend.\n",
      "Using numpy backend.\n"
     ]
    },
    {
     "data": {
      "text/plain": [
       "array([[[0.06819704, 0.91550528, 2.76962817, 2.41190552],\n",
       "        [3.79316   , 0.56680655, 2.06417601, 2.98052171],\n",
       "        [2.05800282, 3.72187385, 0.68733402, 2.12104436]],\n",
       "\n",
       "       [[2.58491746, 0.30831594, 1.50076187, 2.3142426 ],\n",
       "        [2.5151751 , 2.28735849, 2.73046674, 3.97484921],\n",
       "        [0.95571609, 2.25353617, 3.32558919, 1.35884506]]])"
      ]
     },
     "execution_count": 3,
     "metadata": {},
     "output_type": "execute_result"
    }
   ],
   "source": [
    "from ckine.Tensor_analysis import z_score_values\n",
    "scored_tensor = z_score_values(tensor)\n",
    "scored_tensor"
   ]
  },
  {
   "cell_type": "code",
   "execution_count": 4,
   "metadata": {},
   "outputs": [],
   "source": [
    "def z_score_old(A, subtract = True):\n",
    "    '''Function that takes in the values tensor and z-scores it.'''\n",
    "    B = np.zeros_like(A)\n",
    "    for i in range(A.shape[2]):\n",
    "        slice_face = A[:,:,i]\n",
    "        mu = np.mean(slice_face)\n",
    "        sigma = np.std(slice_face)\n",
    "        if subtract is True:\n",
    "            z_scored_slice = (slice_face - mu) / sigma\n",
    "        elif subtract is False:\n",
    "            z_scored_slice = slice_face / sigma\n",
    "        B[:,:,i] = z_scored_slice\n",
    "    return B"
   ]
  },
  {
   "cell_type": "code",
   "execution_count": 5,
   "metadata": {},
   "outputs": [
    {
     "data": {
      "text/plain": [
       "array([[[0.06184013, 0.72594959, 3.07145785, 3.68888936],\n",
       "        [3.14295007, 0.41068791, 2.09170902, 4.16542269],\n",
       "        [1.97115043, 3.11728275, 0.80511861, 3.42652596]],\n",
       "\n",
       "       [[2.3439673 , 0.24447902, 1.66431251, 3.53951879],\n",
       "        [2.08403277, 1.65733879, 2.76688706, 5.55504328],\n",
       "        [0.9153827 , 1.88746575, 3.89547685, 2.1952006 ]]])"
      ]
     },
     "execution_count": 5,
     "metadata": {},
     "output_type": "execute_result"
    }
   ],
   "source": [
    "scored_old_tensor = z_score_old(tensor, subtract = False)\n",
    "scored_old_tensor"
   ]
  },
  {
   "cell_type": "code",
   "execution_count": 6,
   "metadata": {},
   "outputs": [
    {
     "name": "stdout",
     "output_type": "stream",
     "text": [
      "1.2005977509566632\n",
      "1.1952773691366987\n",
      "0.8818427950596925\n",
      "0.8051757179815182\n"
     ]
    }
   ],
   "source": [
    "#Slicing the tensor along the last dimension and finding the standard deviation\n",
    "for i in range(tensor.shape[2]):\n",
    "    std_new = np.std(scored_tensor[:,:,i])\n",
    "    print(std_new)\n",
    "#This is from the Numpy broadcasting function"
   ]
  },
  {
   "cell_type": "code",
   "execution_count": 7,
   "metadata": {},
   "outputs": [
    {
     "name": "stdout",
     "output_type": "stream",
     "text": [
      "1.0\n",
      "1.0\n",
      "1.0\n",
      "0.9999999999999998\n"
     ]
    }
   ],
   "source": [
    "#Slicing the tensor along the last dimension and finding the standard deviation\n",
    "for i in range(tensor.shape[2]):\n",
    "    std_old = np.std(scored_old_tensor[:,:,i])\n",
    "    print(std_old)\n",
    "#This is from the Numpy broadcasting function"
   ]
  },
  {
   "cell_type": "code",
   "execution_count": 8,
   "metadata": {},
   "outputs": [
    {
     "data": {
      "text/plain": [
       "array([1., 1., 1.])"
      ]
     },
     "execution_count": 8,
     "metadata": {},
     "output_type": "execute_result"
    }
   ],
   "source": [
    "#Using the axis method\n",
    "std_new = np.std(scored_tensor, axis=(0, 2))\n",
    "std_new\n",
    "#This is from the Numpy broadcasting function"
   ]
  },
  {
   "cell_type": "code",
   "execution_count": 9,
   "metadata": {},
   "outputs": [
    {
     "data": {
      "text/plain": [
       "array([1.36970012, 1.48187174, 1.05589773])"
      ]
     },
     "execution_count": 9,
     "metadata": {},
     "output_type": "execute_result"
    }
   ],
   "source": [
    "#Using the axis method\n",
    "std_old = np.std(scored_old_tensor, axis=(0, 2))\n",
    "std_old\n",
    "#This is from the hardcore slicing function."
   ]
  },
  {
   "cell_type": "code",
   "execution_count": null,
   "metadata": {},
   "outputs": [],
   "source": []
  }
 ],
 "metadata": {
  "kernelspec": {
   "display_name": "Python 3",
   "language": "python",
   "name": "python3"
  },
  "language_info": {
   "codemirror_mode": {
    "name": "ipython",
    "version": 3
   },
   "file_extension": ".py",
   "mimetype": "text/x-python",
   "name": "python",
   "nbconvert_exporter": "python",
   "pygments_lexer": "ipython3",
   "version": "3.7.3"
  }
 },
 "nbformat": 4,
 "nbformat_minor": 2
}
