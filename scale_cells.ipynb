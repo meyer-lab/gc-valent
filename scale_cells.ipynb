{
 "cells": [
  {
   "cell_type": "code",
   "execution_count": 1,
   "metadata": {},
   "outputs": [],
   "source": [
    "import numpy as np"
   ]
  },
  {
   "cell_type": "code",
   "execution_count": 6,
   "metadata": {},
   "outputs": [
    {
     "data": {
      "text/plain": [
       "array([[[0.43437855, 0.64347724, 0.89223073, 0.5478411 ],\n",
       "        [0.01956257, 0.77807369, 0.03340146, 0.35637853],\n",
       "        [0.99312845, 0.08211176, 0.80728772, 0.7322535 ]],\n",
       "\n",
       "       [[0.45941606, 0.683191  , 0.33879455, 0.41325308],\n",
       "        [0.87338172, 0.91684791, 0.33891053, 0.75720977],\n",
       "        [0.47106976, 0.24873414, 0.0933682 , 0.5901137 ]]])"
      ]
     },
     "execution_count": 6,
     "metadata": {},
     "output_type": "execute_result"
    }
   ],
   "source": [
    "tensor = np.random.rand(2,3,4)\n",
    "tensor"
   ]
  },
  {
   "cell_type": "code",
   "execution_count": 7,
   "metadata": {},
   "outputs": [
    {
     "data": {
      "text/plain": [
       "array([[[2.57041206, 3.80774245, 5.2797281 , 3.24182069],\n",
       "        [0.0567362 , 2.2566029 , 0.09687236, 1.03358441],\n",
       "        [3.13355559, 0.25908205, 2.54718406, 2.3104333 ]],\n",
       "\n",
       "       [[2.7185702 , 4.04274658, 2.0047988 , 2.4454032 ],\n",
       "        [2.53301936, 2.65908186, 0.98292295, 2.19609246],\n",
       "        [1.48633671, 0.78481514, 0.29459879, 1.86194856]]])"
      ]
     },
     "execution_count": 7,
     "metadata": {},
     "output_type": "execute_result"
    }
   ],
   "source": [
    "from ckine.Tensor_analysis import z_score_values\n",
    "scored_tensor = z_score_values(tensor)\n",
    "scored_tensor"
   ]
  },
  {
   "cell_type": "code",
   "execution_count": 8,
   "metadata": {},
   "outputs": [],
   "source": [
    "def z_score_old(A, subtract = True):\n",
    "    '''Function that takes in the values tensor and z-scores it.'''\n",
    "    B = np.zeros_like(A)\n",
    "    for i in range(A.shape[2]):\n",
    "        slice_face = A[:,:,i]\n",
    "        mu = np.mean(slice_face)\n",
    "        sigma = np.std(slice_face)\n",
    "        if subtract is True:\n",
    "            z_scored_slice = (slice_face - mu) / sigma\n",
    "        elif subtract is False:\n",
    "            z_scored_slice = slice_face / sigma\n",
    "        B[:,:,i] = z_scored_slice\n",
    "    return B"
   ]
  },
  {
   "cell_type": "code",
   "execution_count": 9,
   "metadata": {},
   "outputs": [
    {
     "data": {
      "text/plain": [
       "array([[[1.36264937, 2.18097573, 2.72706079, 3.68816626],\n",
       "        [0.06136794, 2.63717152, 0.10208998, 2.39920533],\n",
       "        [3.11545278, 0.27830627, 2.46743652, 4.92966418]],\n",
       "\n",
       "       [[1.44119226, 2.31557997, 1.03550942, 2.78209514],\n",
       "        [2.73980623, 3.10752723, 1.03586392, 5.09767438],\n",
       "        [1.47775002, 0.84304943, 0.28537545, 3.97275313]]])"
      ]
     },
     "execution_count": 9,
     "metadata": {},
     "output_type": "execute_result"
    }
   ],
   "source": [
    "scored_old_tensor = z_score_old(tensor, subtract = False)\n",
    "scored_old_tensor"
   ]
  },
  {
   "cell_type": "code",
   "execution_count": null,
   "metadata": {},
   "outputs": [],
   "source": []
  }
 ],
 "metadata": {
  "kernelspec": {
   "display_name": "Python 3",
   "language": "python",
   "name": "python3"
  },
  "language_info": {
   "codemirror_mode": {
    "name": "ipython",
    "version": 3
   },
   "file_extension": ".py",
   "mimetype": "text/x-python",
   "name": "python",
   "nbconvert_exporter": "python",
   "pygments_lexer": "ipython3",
   "version": "3.7.3"
  }
 },
 "nbformat": 4,
 "nbformat_minor": 2
}
