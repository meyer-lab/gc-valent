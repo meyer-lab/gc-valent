{
 "cells": [
  {
   "cell_type": "code",
   "execution_count": null,
   "metadata": {},
   "outputs": [],
   "source": [
    "tplate = \"/home/heatherm/type-I-ckine-model/ckine/brian/ti\"\n",
    "nkplate = \"/home/heatherm/type-I-ckine-model/ckine/brian/ti\"\n",
    "tsample, titlesT = importF(tplate)\n",
    "nksample, titlesNK = importF(nkplate)\n",
    "\n",
    "dataT_array, pstatT_array, xfT_array, loadingT_array = pcaAll(tsample, \"t\", titlesT)\n",
    "dataNK_array, pstatNK_array, xfNK_array, loadingNK_array = pcaAll(nksample, \"n\", titlesNK)"
   ]
  }
 ],
 "metadata": {
  "kernelspec": {
   "display_name": "Python 3",
   "language": "python",
   "name": "python3"
  },
  "language_info": {
   "codemirror_mode": {
    "name": "ipython",
    "version": 3
   },
   "file_extension": ".py",
   "mimetype": "text/x-python",
   "name": "python",
   "nbconvert_exporter": "python",
   "pygments_lexer": "ipython3",
   "version": "3.7.3"
  }
 },
 "nbformat": 4,
 "nbformat_minor": 4
}
