{
 "cells": [
  {
   "cell_type": "code",
   "execution_count": 1,
   "metadata": {},
   "outputs": [],
   "source": [
    "from ckine.plot_model_prediction import surf_IL2Rb, pstat\n",
    "import numpy as np"
   ]
  },
  {
   "cell_type": "code",
   "execution_count": 2,
   "metadata": {},
   "outputs": [],
   "source": [
    "# posteriors taken from line 170 of fitting_IL2Rb_only.csv\n",
    "# NOTE: these results were fit to IL2 stimulation only\n",
    "unkVec_1 = np.array([0., 0., 0., 0., 8.33E-05, 0.115818087, 0.128608864, 0.089890767, 0.098851823, 0.106913961, 0.107722847, 0.117471386, 0.114016182, 0.095431878, 0.101391307, 0.340647077, 0.090746998, 0.097587796, 1.013323342, 0.925694209, 0.918209005, 0.958374837, 0., 0.])\n",
    "\n",
    "# posteriors taken from line 270 of full-fitting-no-IL15-hard-bound.csv\n",
    "unkVec_2 = np.array([0., 0., 0., 0., 0.00012865, 0.158037088, 0.285547466, 0.102937877, 0.399706229, 0.111318564, 0.061811833, 0.042950052, 0.283564271, 0.088275756, 0.08486402, 0.399519643, 0.05414861, 0.253249545, 0.509200117, 0.537992752, 0.667527049, 3.852037782, 0., 0.])"
   ]
  },
  {
   "cell_type": "code",
   "execution_count": 3,
   "metadata": {},
   "outputs": [
    {
     "data": {
      "text/plain": [
       "(array([1.        , 0.99999755, 0.99998891, 0.99995949, 0.9999346 ,\n",
       "        0.99990784, 0.99989299]),\n",
       " array([1.        , 0.99972256, 0.9987594 , 0.99554488, 0.99290335,\n",
       "        0.99010643, 0.98856112]),\n",
       " array([1.        , 0.99999763, 0.99998938, 0.99995917, 0.99993481,\n",
       "        0.99990779, 0.99989225]),\n",
       " array([1.        , 0.99972477, 0.99875144, 0.99548695, 0.99277342,\n",
       "        0.98988822, 0.98830016]),\n",
       " array([1.        , 0.99999888, 0.99998971, 0.99986046, 0.999549  ,\n",
       "        0.9990696 , 0.9987972 ]),\n",
       " array([1.        , 0.99980515, 0.99910036, 0.99647003, 0.9939546 ,\n",
       "        0.99113956, 0.9895829 ]),\n",
       " array([1.        , 0.99999888, 0.99998971, 0.99986046, 0.999549  ,\n",
       "        0.9990696 , 0.9987972 ]),\n",
       " array([1.        , 0.99980515, 0.99910036, 0.99647003, 0.9939546 ,\n",
       "        0.99113956, 0.9895829 ]))"
      ]
     },
     "execution_count": 3,
     "metadata": {},
     "output_type": "execute_result"
    }
   ],
   "source": [
    "surf = surf_IL2Rb()\n",
    "surf.calc(unkVec_1)"
   ]
  },
  {
   "cell_type": "code",
   "execution_count": 4,
   "metadata": {},
   "outputs": [
    {
     "data": {
      "text/plain": [
       "(array([1.        , 0.99999893, 0.99999564, 0.99998656, 0.99998045,\n",
       "        0.99997662, 0.99997601]),\n",
       " array([1.        , 0.99987988, 0.99951244, 0.99850086, 0.99782003,\n",
       "        0.9974087 , 0.99732397]),\n",
       " array([1.        , 0.99999894, 0.99999581, 0.9999866 , 0.99997965,\n",
       "        0.99997715, 0.99997626]),\n",
       " array([1.        , 0.99988051, 0.99951007, 0.99849705, 0.99781163,\n",
       "        0.99737986, 0.99730719]),\n",
       " array([1.        , 0.99999926, 0.99999029, 0.99986641, 0.99963364,\n",
       "        0.99941896, 0.99937044]),\n",
       " array([1.        , 0.99992145, 0.99970061, 0.99910495, 0.9986222 ,\n",
       "        0.99827824, 0.99820525]),\n",
       " array([1.        , 0.99999926, 0.99999029, 0.99986641, 0.99963364,\n",
       "        0.99941896, 0.99937044]),\n",
       " array([1.        , 0.99992145, 0.99970061, 0.99910495, 0.9986222 ,\n",
       "        0.99827824, 0.99820525]))"
      ]
     },
     "execution_count": 4,
     "metadata": {},
     "output_type": "execute_result"
    }
   ],
   "source": [
    "surf.calc(unkVec_2)"
   ]
  },
  {
   "cell_type": "code",
   "execution_count": 5,
   "metadata": {},
   "outputs": [
    {
     "name": "stdout",
     "output_type": "stream",
     "text": [
      "IL2 stimulation: IL2Ra+\n",
      "[0. 0. 0. 0. 0. 0. 0. 0.]\n",
      "IL2 stimulation: IL2Ra-\n",
      "[0. 0. 0. 0. 0. 0. 0. 0.]\n",
      "IL15 stimulation: IL2Ra+\n",
      "[0. 0. 0. 0. 0. 0. 0. 0.]\n",
      "IL15 stimulation: IL2Ra-\n",
      "[0. 0. 0. 0. 0. 0. 0. 0.]\n"
     ]
    },
    {
     "name": "stderr",
     "output_type": "stream",
     "text": [
      "/home/adamw/type-I-ckine-model/ckine/plot_model_prediction.py:155: RuntimeWarning: invalid value encountered in true_divide\n",
      "  actVec = np.concatenate((actVec_IL2 / max(actVec_IL2), actVec_IL2_IL2Raminus / max(actVec_IL2_IL2Raminus), actVec_IL15 / max(actVec_IL15), actVec_IL15_IL2Raminus / max(actVec_IL15_IL2Raminus)))\n"
     ]
    },
    {
     "data": {
      "text/plain": [
       "array([nan, nan, nan, nan, nan, nan, nan, nan, nan, nan, nan, nan, nan,\n",
       "       nan, nan, nan, nan, nan, nan, nan, nan, nan, nan, nan, nan, nan,\n",
       "       nan, nan, nan, nan, nan, nan])"
      ]
     },
     "execution_count": 5,
     "metadata": {},
     "output_type": "execute_result"
    }
   ],
   "source": [
    "act = pstat()\n",
    "act.calc(unkVec_2)"
   ]
  }
 ],
 "metadata": {
  "kernelspec": {
   "display_name": "Python 3",
   "language": "python",
   "name": "python3"
  },
  "language_info": {
   "codemirror_mode": {
    "name": "ipython",
    "version": 3
   },
   "file_extension": ".py",
   "mimetype": "text/x-python",
   "name": "python",
   "nbconvert_exporter": "python",
   "pygments_lexer": "ipython3",
   "version": "3.6.5"
  }
 },
 "nbformat": 4,
 "nbformat_minor": 2
}
