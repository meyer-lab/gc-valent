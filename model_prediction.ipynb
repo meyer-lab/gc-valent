{
 "cells": [
  {
   "cell_type": "code",
   "execution_count": 1,
   "metadata": {},
   "outputs": [],
   "source": [
    "from ckine.plot_model_prediction import surf_IL2Rb, pstat, surf_gc\n",
    "import numpy as np"
   ]
  },
  {
   "cell_type": "code",
   "execution_count": 2,
   "metadata": {},
   "outputs": [],
   "source": [
    "# posteriors taken from chain-0.csv\n",
    "unkVec_0 = np.array([0., 0., 0., 0., 1.55E-05, 0.108726747, 0.113782505, 0.113287996, 0.184146412, 0.095045481, 0.076837144, 0.108679874, 0.103984499, 0.061905234, 0.227766759, 0.000775994, 0.092753733, 0.055365548, 0.916729217, 1.621114937, 1.708668556, 0.553433596, 0., 0.])\n",
    "\n",
    "# posteriors taken from chain-1.csv\n",
    "unkVec_1 = np.array([0., 0., 0., 0., 1.97E-05, 0.087961214, 0.12741765, 0.093999038, 0.120276476, 0.088472891, 0.083970491, 0.099553303, 0.098890737, 0.047797611, 0.217563996, 0.002220749, 0.097360166, 0.044756011, 0.864286582, 1.766848438, 1.828925735, 0.603631672, 0., 0.])\n",
    "\n",
    "# posteriors taken from chain-2.csv\n",
    "unkVec_2 = np.array([0., 0., 0., 0., 1.95E-05, 0.130756009, 0.087810458, 0.110482992, 0.162153916, 0.094468641, 0.082777731, 0.107849139, 0.103001492, 0.057242994, 0.202145559, 0.001101845, 0.101522681, 0.055163062, 0.954679617, 1.547059457, 1.586952704, 0.507592776, 0., 0.])\n",
    "\n",
    "# posteriors taken from chain-3.csv\n",
    "unkVec_3 = np.array([0., 0., 0., 0., 1.97E-05, 0.103643174, 0.090206764, 0.122516304, 0.150198691, 0.090560268, 0.096227934, 0.098440522, 0.107659441, 0.065596626, 0.224184748, 0.001074639, 0.116296297, 0.05339198, 0.90534753, 1.767340087, 1.77615817, 0.668900729, 0., 0.])\n",
    "\n",
    "surf_IL2Rb = surf_IL2Rb()\n",
    "act = pstat()\n",
    "surf_gc = surf_gc()\n"
   ]
  },
  {
   "cell_type": "markdown",
   "metadata": {},
   "source": [
    "### Results from chain-0.csv"
   ]
  },
  {
   "cell_type": "code",
   "execution_count": null,
   "metadata": {},
   "outputs": [],
   "source": [
    "surf_IL2Rb.plot(unkVec_0)\n",
    "act.plot(unkVec_0)\n",
    "# surf_gc.plot(unkVec_0)"
   ]
  },
  {
   "cell_type": "markdown",
   "metadata": {},
   "source": [
    "### Results from chain-1.csv"
   ]
  },
  {
   "cell_type": "code",
   "execution_count": null,
   "metadata": {},
   "outputs": [],
   "source": [
    "surf.plot(unkVec_1)\n",
    "act.plot(unkVec_1)"
   ]
  },
  {
   "cell_type": "markdown",
   "metadata": {},
   "source": [
    "### Results from chain-2.csv"
   ]
  },
  {
   "cell_type": "code",
   "execution_count": null,
   "metadata": {},
   "outputs": [],
   "source": [
    "surf.plot(unkVec_2)\n",
    "act.plot(unkVec_2)"
   ]
  },
  {
   "cell_type": "markdown",
   "metadata": {},
   "source": [
    "### Results from chain-3.csv"
   ]
  },
  {
   "cell_type": "code",
   "execution_count": null,
   "metadata": {},
   "outputs": [],
   "source": [
    "surf.plot(unkVec_3)\n",
    "act.plot(unkVec_3)"
   ]
  },
  {
   "cell_type": "code",
   "execution_count": null,
   "metadata": {},
   "outputs": [],
   "source": []
  }
 ],
 "metadata": {
  "kernelspec": {
   "display_name": "Python 3",
   "language": "python",
   "name": "python3"
  },
  "language_info": {
   "codemirror_mode": {
    "name": "ipython",
    "version": 3
   },
   "file_extension": ".py",
   "mimetype": "text/x-python",
   "name": "python",
   "nbconvert_exporter": "python",
   "pygments_lexer": "ipython3",
   "version": "3.6.5"
  }
 },
 "nbformat": 4,
 "nbformat_minor": 2
}
