{
 "cells": [
  {
   "cell_type": "code",
   "execution_count": 1,
   "metadata": {},
   "outputs": [],
   "source": [
    "from ckine.plot_model_prediction import surf_IL2Rb, pstat"
   ]
  },
  {
   "cell_type": "code",
   "execution_count": 2,
   "metadata": {},
   "outputs": [
    {
     "name": "stdout",
     "output_type": "stream",
     "text": [
      "(7,)\n",
      "(7, 48)\n"
     ]
    },
    {
     "data": {
      "text/plain": [
       "(array([1.        , 0.99999755, 0.99998891, 0.99995949, 0.9999346 ,\n",
       "        0.99990784, 0.99989299]),\n",
       " array([1.        , 0.99972256, 0.9987594 , 0.99554488, 0.99290335,\n",
       "        0.99010643, 0.98856112]),\n",
       " array([1.        , 0.99999763, 0.99998938, 0.99995917, 0.99993481,\n",
       "        0.99990779, 0.99989225]),\n",
       " array([1.        , 0.99972477, 0.99875144, 0.99548695, 0.99277342,\n",
       "        0.98988822, 0.98830016]),\n",
       " array([1.        , 0.99999888, 0.99998971, 0.99986046, 0.999549  ,\n",
       "        0.9990696 , 0.9987972 ]),\n",
       " array([1.        , 0.99980515, 0.99910036, 0.99647003, 0.9939546 ,\n",
       "        0.99113956, 0.9895829 ]),\n",
       " array([1.        , 0.99999888, 0.99998971, 0.99986046, 0.999549  ,\n",
       "        0.9990696 , 0.9987972 ]),\n",
       " array([1.        , 0.99980515, 0.99910036, 0.99647003, 0.9939546 ,\n",
       "        0.99113956, 0.9895829 ]))"
      ]
     },
     "execution_count": 2,
     "metadata": {},
     "output_type": "execute_result"
    }
   ],
   "source": [
    "surf = surf_IL2Rb()\n",
    "surf.calc_1()"
   ]
  },
  {
   "cell_type": "code",
   "execution_count": null,
   "metadata": {},
   "outputs": [],
   "source": []
  }
 ],
 "metadata": {
  "kernelspec": {
   "display_name": "Python 3",
   "language": "python",
   "name": "python3"
  },
  "language_info": {
   "codemirror_mode": {
    "name": "ipython",
    "version": 3
   },
   "file_extension": ".py",
   "mimetype": "text/x-python",
   "name": "python",
   "nbconvert_exporter": "python",
   "pygments_lexer": "ipython3",
   "version": "3.6.5"
  }
 },
 "nbformat": 4,
 "nbformat_minor": 2
}
