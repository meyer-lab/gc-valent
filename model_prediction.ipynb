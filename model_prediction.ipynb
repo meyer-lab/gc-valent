{
 "cells": [
  {
   "cell_type": "code",
   "execution_count": 1,
   "metadata": {},
   "outputs": [],
   "source": [
    "from ckine.plot_model_prediction import surf_IL2Rb, pstat"
   ]
  },
  {
   "cell_type": "code",
   "execution_count": 2,
   "metadata": {},
   "outputs": [
    {
     "data": {
      "text/plain": [
       "(array([1.        , 0.99999755, 0.99998891, 0.99995949, 0.9999346 ,\n",
       "        0.99990784, 0.99989299]),\n",
       " array([1.        , 0.99972256, 0.9987594 , 0.99554488, 0.99290335,\n",
       "        0.99010643, 0.98856112]),\n",
       " array([1.        , 0.99999763, 0.99998938, 0.99995917, 0.99993481,\n",
       "        0.99990779, 0.99989225]),\n",
       " array([1.        , 0.99972477, 0.99875144, 0.99548695, 0.99277342,\n",
       "        0.98988822, 0.98830016]),\n",
       " array([1.        , 0.99999888, 0.99998971, 0.99986046, 0.999549  ,\n",
       "        0.9990696 , 0.9987972 ]),\n",
       " array([1.        , 0.99980515, 0.99910036, 0.99647003, 0.9939546 ,\n",
       "        0.99113956, 0.9895829 ]),\n",
       " array([1.        , 0.99999888, 0.99998971, 0.99986046, 0.999549  ,\n",
       "        0.9990696 , 0.9987972 ]),\n",
       " array([1.        , 0.99980515, 0.99910036, 0.99647003, 0.9939546 ,\n",
       "        0.99113956, 0.9895829 ]))"
      ]
     },
     "execution_count": 2,
     "metadata": {},
     "output_type": "execute_result"
    }
   ],
   "source": [
    "surf = surf_IL2Rb()\n",
    "surf.calc_1()"
   ]
  },
  {
   "cell_type": "code",
   "execution_count": 3,
   "metadata": {},
   "outputs": [
    {
     "data": {
      "text/plain": [
       "(array([1.        , 0.99999893, 0.99999564, 0.99998656, 0.99998045,\n",
       "        0.99997662, 0.99997601]),\n",
       " array([1.        , 0.99987988, 0.99951244, 0.99850086, 0.99782003,\n",
       "        0.9974087 , 0.99732397]),\n",
       " array([1.        , 0.99999894, 0.99999581, 0.9999866 , 0.99997965,\n",
       "        0.99997715, 0.99997626]),\n",
       " array([1.        , 0.99988051, 0.99951007, 0.99849705, 0.99781163,\n",
       "        0.99737986, 0.99730719]),\n",
       " array([1.        , 0.99999926, 0.99999029, 0.99986641, 0.99963364,\n",
       "        0.99941896, 0.99937044]),\n",
       " array([1.        , 0.99992145, 0.99970061, 0.99910495, 0.9986222 ,\n",
       "        0.99827824, 0.99820525]),\n",
       " array([1.        , 0.99999926, 0.99999029, 0.99986641, 0.99963364,\n",
       "        0.99941896, 0.99937044]),\n",
       " array([1.        , 0.99992145, 0.99970061, 0.99910495, 0.9986222 ,\n",
       "        0.99827824, 0.99820525]))"
      ]
     },
     "execution_count": 3,
     "metadata": {},
     "output_type": "execute_result"
    }
   ],
   "source": [
    "surf.calc_2()"
   ]
  },
  {
   "cell_type": "code",
   "execution_count": 4,
   "metadata": {},
   "outputs": [
    {
     "name": "stdout",
     "output_type": "stream",
     "text": [
      "[[nan  0.  0. ...  0.  0.  0.]\n",
      " [ 1.  1.  1. ...  1.  1.  1.]\n",
      " [ 1.  1.  1. ...  1.  1.  1.]\n",
      " ...\n",
      " [ 1.  1.  1. ...  1.  1.  1.]\n",
      " [ 1.  1.  1. ...  1.  1.  1.]\n",
      " [ 1.  1.  1. ...  1.  1.  1.]]\n",
      "[[nan  0.  0. ...  0.  0.  0.]\n",
      " [nan  0.  0. ...  0.  0.  0.]\n",
      " [ 1.  1.  1. ...  1.  1.  1.]\n",
      " ...\n",
      " [ 1.  1.  1. ...  1.  1.  1.]\n",
      " [ 1.  1.  1. ...  1.  1.  1.]\n",
      " [ 1.  1.  1. ...  1.  1.  1.]]\n",
      "[[nan  0.  0. ...  0.  0.  0.]\n",
      " [nan  0.  0. ...  0.  0.  0.]\n",
      " [nan  0.  0. ...  0.  0.  0.]\n",
      " ...\n",
      " [ 1.  1.  1. ...  1.  1.  1.]\n",
      " [ 1.  1.  1. ...  1.  1.  1.]\n",
      " [ 1.  1.  1. ...  1.  1.  1.]]\n",
      "[[nan  0.  0. ...  0.  0.  0.]\n",
      " [nan  0.  0. ...  0.  0.  0.]\n",
      " [nan  0.  0. ...  0.  0.  0.]\n",
      " ...\n",
      " [ 1.  1.  1. ...  1.  1.  1.]\n",
      " [ 1.  1.  1. ...  1.  1.  1.]\n",
      " [ 1.  1.  1. ...  1.  1.  1.]]\n",
      "[[nan  0.  0. ...  0.  0.  0.]\n",
      " [nan  0.  0. ...  0.  0.  0.]\n",
      " [nan  0.  0. ...  0.  0.  0.]\n",
      " ...\n",
      " [ 1.  1.  1. ...  1.  1.  1.]\n",
      " [ 1.  1.  1. ...  1.  1.  1.]\n",
      " [ 1.  1.  1. ...  1.  1.  1.]]\n",
      "[[nan  0.  0. ...  0.  0.  0.]\n",
      " [nan  0.  0. ...  0.  0.  0.]\n",
      " [nan  0.  0. ...  0.  0.  0.]\n",
      " ...\n",
      " [nan  0.  0. ...  0.  0.  0.]\n",
      " [ 1.  1.  1. ...  1.  1.  1.]\n",
      " [ 1.  1.  1. ...  1.  1.  1.]]\n",
      "[[nan  0.  0. ...  0.  0.  0.]\n",
      " [nan  0.  0. ...  0.  0.  0.]\n",
      " [nan  0.  0. ...  0.  0.  0.]\n",
      " ...\n",
      " [nan  0.  0. ...  0.  0.  0.]\n",
      " [nan  0.  0. ...  0.  0.  0.]\n",
      " [ 1.  1.  1. ...  1.  1.  1.]]\n",
      "[[nan  0.  0. ...  0.  0.  0.]\n",
      " [nan  0.  0. ...  0.  0.  0.]\n",
      " [nan  0.  0. ...  0.  0.  0.]\n",
      " ...\n",
      " [nan  0.  0. ...  0.  0.  0.]\n",
      " [nan  0.  0. ...  0.  0.  0.]\n",
      " [nan  0.  0. ...  0.  0.  0.]]\n",
      "[nan nan nan nan nan nan nan nan]\n",
      "nan\n"
     ]
    },
    {
     "ename": "NameError",
     "evalue": "name 'Op' is not defined",
     "output_type": "error",
     "traceback": [
      "\u001b[0;31m---------------------------------------------------------------------------\u001b[0m",
      "\u001b[0;31mNameError\u001b[0m                                 Traceback (most recent call last)",
      "\u001b[0;32m<ipython-input-4-6f317ada0d36>\u001b[0m in \u001b[0;36m<module>\u001b[0;34m()\u001b[0m\n\u001b[1;32m      1\u001b[0m \u001b[0mact\u001b[0m \u001b[0;34m=\u001b[0m \u001b[0mpstat\u001b[0m\u001b[0;34m(\u001b[0m\u001b[0;34m)\u001b[0m\u001b[0;34m\u001b[0m\u001b[0m\n\u001b[0;32m----> 2\u001b[0;31m \u001b[0mact\u001b[0m\u001b[0;34m.\u001b[0m\u001b[0mcalc_1\u001b[0m\u001b[0;34m(\u001b[0m\u001b[0;34m)\u001b[0m\u001b[0;34m\u001b[0m\u001b[0m\n\u001b[0m",
      "\u001b[0;32m~/type-I-ckine-model/ckine/plot_model_prediction.py\u001b[0m in \u001b[0;36mcalc_1\u001b[0;34m(self)\u001b[0m\n\u001b[1;32m    221\u001b[0m \u001b[0;34m\u001b[0m\u001b[0m\n\u001b[1;32m    222\u001b[0m             \u001b[0;31m# using Op in hopes of finding time at which activity is maximal and using said time to generate yOut\u001b[0m\u001b[0;34m\u001b[0m\u001b[0;34m\u001b[0m\u001b[0m\n\u001b[0;32m--> 223\u001b[0;31m             \u001b[0mIL15_yOut\u001b[0m\u001b[0;34m[\u001b[0m\u001b[0mii\u001b[0m\u001b[0;34m,\u001b[0m\u001b[0;34m:\u001b[0m\u001b[0;34m]\u001b[0m \u001b[0;34m=\u001b[0m \u001b[0mOp\u001b[0m\u001b[0;34m(\u001b[0m\u001b[0munkVec_IL15\u001b[0m\u001b[0;34m[\u001b[0m\u001b[0;34m:\u001b[0m\u001b[0;34m,\u001b[0m\u001b[0mii\u001b[0m\u001b[0;34m]\u001b[0m\u001b[0;34m)\u001b[0m\u001b[0;34m\u001b[0m\u001b[0m\n\u001b[0m\u001b[1;32m    224\u001b[0m             \u001b[0mIL15_yOut_IL2Raminus\u001b[0m\u001b[0;34m[\u001b[0m\u001b[0mii\u001b[0m\u001b[0;34m,\u001b[0m\u001b[0;34m:\u001b[0m\u001b[0;34m]\u001b[0m \u001b[0;34m=\u001b[0m \u001b[0mOp\u001b[0m\u001b[0;34m(\u001b[0m\u001b[0munkVec_IL15_Il2Raminus\u001b[0m\u001b[0;34m[\u001b[0m\u001b[0;34m:\u001b[0m\u001b[0;34m,\u001b[0m\u001b[0mii\u001b[0m\u001b[0;34m]\u001b[0m\u001b[0;34m)\u001b[0m\u001b[0;34m\u001b[0m\u001b[0m\n\u001b[1;32m    225\u001b[0m \u001b[0;34m\u001b[0m\u001b[0m\n",
      "\u001b[0;31mNameError\u001b[0m: name 'Op' is not defined"
     ]
    }
   ],
   "source": [
    "act = pstat()\n",
    "act.calc_1()"
   ]
  },
  {
   "cell_type": "code",
   "execution_count": null,
   "metadata": {},
   "outputs": [],
   "source": []
  }
 ],
 "metadata": {
  "kernelspec": {
   "display_name": "Python 3",
   "language": "python",
   "name": "python3"
  },
  "language_info": {
   "codemirror_mode": {
    "name": "ipython",
    "version": 3
   },
   "file_extension": ".py",
   "mimetype": "text/x-python",
   "name": "python",
   "nbconvert_exporter": "python",
   "pygments_lexer": "ipython3",
   "version": "3.6.5"
  }
 },
 "nbformat": 4,
 "nbformat_minor": 2
}
