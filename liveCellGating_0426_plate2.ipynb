{
 "cells": [
  {
   "cell_type": "markdown",
   "metadata": {},
   "source": [
    "# 4/26: Plate 2"
   ]
  },
  {
   "cell_type": "markdown",
   "metadata": {},
   "source": [
    "Gates tentatively determined relative to shapes and percentages outlined in Farhat et al. Figure S3. Here, magnitudes have been transformed by log10, but do not appear consistent with S3."
   ]
  },
  {
   "cell_type": "code",
   "execution_count": null,
   "metadata": {},
   "outputs": [],
   "source": [
    "import os\n",
    "import string\n",
    "import numpy as np\n",
    "import pandas as pd\n",
    "from FlowCytometryTools import ThresholdGate, PolyGate\n",
    "from matplotlib import pyplot as plt\n",
    "from matplotlib import cm\n",
    "from ckine.flow import importF"
   ]
  },
  {
   "cell_type": "code",
   "execution_count": null,
   "metadata": {},
   "outputs": [],
   "source": [
    "path_ = os.path.abspath('')"
   ]
  },
  {
   "cell_type": "code",
   "execution_count": null,
   "metadata": {},
   "outputs": [],
   "source": [
    "sample1A, _ = importF(path_ + \"/data/PBMC-rec-quant/04-26/Plate 2/Plate 2 - Panel 1 IL2R/\", \"A\")\n",
    "sample2B, _ = importF(path_ + \"/data/PBMC-rec-quant/04-26/Plate 2/Plate 2 - Panel 2 IL2R/\", \"B\")\n",
    "sample3C, _ = importF(path_ + \"/data/PBMC-rec-quant/04-26/Plate 2/Plate 2 - Panel 3 IL2R/\", \"C\")"
   ]
  },
  {
   "cell_type": "code",
   "execution_count": null,
   "metadata": {},
   "outputs": [],
   "source": [
    "def combineWells(samples, channels_):\n",
    "    \"\"\"Accepts sample array returned from importF, and array of channels, returns transformed combined well data\"\"\"\n",
    "    combinedSamples = samples[0]\n",
    "    for sample in samples[1:]:\n",
    "        combinedSamples.data = combinedSamples.data.append(sample.data)\n",
    "    t_combinedSamples = combinedSamples.transform('tlog', channels=channels_)\n",
    "    return t_combinedSamples"
   ]
  },
  {
   "cell_type": "code",
   "execution_count": null,
   "metadata": {},
   "outputs": [],
   "source": [
    "panel1 = combineWells(sample1A, ['VL6-H', 'VL4-H', 'BL1-H', 'VL1-H', 'BL3-H'])\n",
    "panel2 = combineWells(sample2B, ['VL4-H', 'BL3-H', 'FSC-H'])\n",
    "panel3 = combineWells(sample3C, ['VL6-H', 'VL4-H', 'BL3-H'])"
   ]
  },
  {
   "cell_type": "markdown",
   "metadata": {},
   "source": [
    "## C) T helper and T regulatory cells"
   ]
  },
  {
   "cell_type": "code",
   "execution_count": null,
   "metadata": {},
   "outputs": [],
   "source": [
    "cd3cd4_gate = PolyGate([(5.8e03, 5.8e03), (7.9e03, 6.0e03), (7.9e03, 7.2e03), (5.7e03, 7.2e03)], ('VL4-H', 'VL6-H'), region='in', name='cd3cd4')\n",
    "_ = panel1.plot(['VL4-H','VL6-H'], gates=cd3cd4_gate, cmap=cm.jet) #CD3, CD4\n",
    "plt.title(\"Singlet Lymphocytes\")\n",
    "plt.xlabel(\"CD3\")\n",
    "plt.ylabel(\"CD4\")\n",
    "print(\"Percent gated as CD3+CD4+: \", panel1.gate(cd3cd4_gate).counts/panel1.counts*100., \"%\")"
   ]
  },
  {
   "cell_type": "markdown",
   "metadata": {},
   "source": [
    "The above shape and percentage are consistent with S3(C)."
   ]
  },
  {
   "cell_type": "code",
   "execution_count": null,
   "metadata": {},
   "outputs": [],
   "source": [
    "samplecd3cd4 = panel1.gate(cd3cd4_gate)\n",
    "thelp_gate = PolyGate([(3.6e03, 4.9e03), (4.4e03, 4.9e03), (6.4e03, 6.4e03), (6.4e03, 6.7e03), (3.6e03, 6.7e03)], ('VL1-H', 'BL1-H'), region='in', name='thelp')\n",
    "treg_gate = PolyGate([(5.0e03, 4.1e03), (5.6e03, 5.6e03), (6.8e03,6.4e03), (9.4e03, 6.4e03), (9.4e03, 2.0e3), (5.0e03, 2.0e3)], ('VL1-H', 'BL1-H'), region='in', name='treg')\n",
    "_ = samplecd3cd4.plot(['VL1-H','BL1-H'], gates=[thelp_gate,treg_gate], cmap=cm.jet) #CD3, CD4\n",
    "plt.title(\"CD3+CD4+ cells\")\n",
    "plt.xlabel(\"CD25\")\n",
    "plt.ylabel(\"CD127\")\n",
    "print(\"Percent gated as T helper: \", samplecd3cd4.gate(thelp_gate).counts/samplecd3cd4.counts*100., \"%\")\n",
    "print(\"Percent gated as Treg: \", samplecd3cd4.gate(treg_gate).counts/samplecd3cd4.counts*100., \"%\")"
   ]
  },
  {
   "cell_type": "markdown",
   "metadata": {},
   "source": [
    "The above shape is similar to S3(C), but the percentage of Tregs is lower than 6%."
   ]
  },
  {
   "cell_type": "code",
   "execution_count": null,
   "metadata": {},
   "outputs": [],
   "source": [
    "samplethelp = samplecd3cd4.gate(thelp_gate)\n",
    "sampletreg = samplecd3cd4.gate(treg_gate)"
   ]
  },
  {
   "cell_type": "code",
   "execution_count": null,
   "metadata": {},
   "outputs": [],
   "source": [
    "memthelpgate = ThresholdGate(6750.0, ['BL3-H'], region='below') & ThresholdGate(4300.0, ['BL3-H'], region='above')\n",
    "naivethelpgate = ThresholdGate(7350.0, ['BL3-H'], region='above') & ThresholdGate(8700.0, ['BL3-H'], region='below')\n",
    "_ = samplethelp.plot(['BL3-H'], gates=[memthelpgate,naivethelpgate])\n",
    "plt.xlabel(\"CD45RA\")\n",
    "plt.title(\"T helper\")\n",
    "print(\"Percent gated as Memory T helper: \", samplethelp.gate(memthelpgate).counts/samplethelp.counts*100., \"%\")\n",
    "print(\"Percent gated as Naive T helper: \", samplethelp.gate(naivethelpgate).counts/samplethelp.counts*100., \"%\")"
   ]
  },
  {
   "cell_type": "markdown",
   "metadata": {},
   "source": [
    "The above shape and percentages are consistent with S3(C)."
   ]
  },
  {
   "cell_type": "code",
   "execution_count": null,
   "metadata": {},
   "outputs": [],
   "source": [
    "memtreggate = ThresholdGate(6050.0, ['BL3-H'], region='below') & ThresholdGate(3800.0, ['BL3-H'], region='above')\n",
    "naivetreggate = ThresholdGate(6850.0, ['BL3-H'], region='above') & ThresholdGate(8700.0, ['BL3-H'], region='below')\n",
    "_ = sampletreg.plot(['BL3-H'], gates=[memtreggate,naivetreggate])\n",
    "plt.xlabel(\"CD45RA\")\n",
    "plt.title(\"T reg\")\n",
    "print(\"Percent gated as Memory Treg: \", sampletreg.gate(memtreggate).counts/sampletreg.counts*100., \"%\")\n",
    "print(\"Percent gated as Naive Treg: \", sampletreg.gate(naivetreggate).counts/sampletreg.counts*100., \"%\")"
   ]
  },
  {
   "cell_type": "markdown",
   "metadata": {},
   "source": [
    "Shape of histogram differs from S3(C), so these gates based on percentages."
   ]
  },
  {
   "cell_type": "markdown",
   "metadata": {},
   "source": [
    "## D) NK Cells"
   ]
  },
  {
   "cell_type": "code",
   "execution_count": null,
   "metadata": {},
   "outputs": [],
   "source": [
    "nk_gate = PolyGate([(4900, 6500), (6900, 8400), (7200, 8100), (5500, 6000)], ('VL4-H', 'BL3-H'), region='in', name='nk')\n",
    "nkt_gate = PolyGate([(5700, 6000), (7000, 7600), (8000, 6500), (6200, 5000)], ('VL4-H', 'BL3-H'), region='in', name='nkt')\n",
    "_ = panel2.plot(['VL4-H', 'BL3-H'], gates=[nk_gate,nkt_gate], gate_colors=['red','red'], cmap=cm.jet) #CD56 vs. CD3\n",
    "samplenk = panel2.gate(nk_gate)\n",
    "samplenkt = panel2.gate(nkt_gate)\n",
    "print(\"Percent gated as NK: \", samplenk.counts/panel2.counts*100., \"%\")\n",
    "print(\"Percent gated as NKT: \", samplenkt.counts/panel2.counts*100., \"%\")\n",
    "plt.title(\"Singlet Lymphocytes\")\n",
    "plt.xlabel(\"CD3\")\n",
    "plt.ylabel(\"CD56\")"
   ]
  },
  {
   "cell_type": "markdown",
   "metadata": {},
   "source": [
    "Gated according to the projected shape of S3(D) without compensation. The percentage NK and NKT are slightly higher than 7% and 2%."
   ]
  },
  {
   "cell_type": "markdown",
   "metadata": {},
   "source": [
    "## E) CD8+ T cells"
   ]
  },
  {
   "cell_type": "code",
   "execution_count": null,
   "metadata": {},
   "outputs": [],
   "source": [
    "cd8_gate = PolyGate([(5700, 7000), (5600, 7900), (7900, 7900), (7800, 7000)], ('VL4-H', 'VL6-H'), region='in', name='cd8')\n",
    "_ = panel3.plot(['VL4-H', 'VL6-H'], gates=cd8_gate, cmap=cm.jet) #CD8 vs. CD3\n",
    "plt.title(\"Singlet Lymphocytes\")\n",
    "plt.xlabel(\"CD3\")\n",
    "plt.ylabel(\"CD8\")\n",
    "print(\"Percent gated as CD3+CD8+: \", panel3.gate(cd8_gate).counts/panel3.counts*100., \"%\")"
   ]
  },
  {
   "cell_type": "markdown",
   "metadata": {},
   "source": [
    "The shape is a little different than S3(E), and the percentage is slightly higher than reference (18%)."
   ]
  },
  {
   "cell_type": "code",
   "execution_count": null,
   "metadata": {},
   "outputs": [],
   "source": [
    "cd3cd8sample = panel3.gate(cd8_gate)\n",
    "memcd3cd8gate = ThresholdGate(7280.0, ['BL3-H'], region='below') & ThresholdGate(4200.0, ['BL3-H'], region='above')\n",
    "naivecd3cd8gate = ThresholdGate(7770.0, ['BL3-H'], region='above') & ThresholdGate(8800.0, ['BL3-H'], region='below')\n",
    "_ = cd3cd8sample.plot(['BL3-H'], gates=[memcd3cd8gate,naivecd3cd8gate])\n",
    "plt.xlabel(\"CD45RA\")\n",
    "plt.title(\"CD3+CD8+ Cytotoxic T cells\")\n",
    "print(\"Percent gated as Cytotoxic Memory: \", cd3cd8sample.gate(memcd3cd8gate).counts/cd3cd8sample.counts*100., \"%\")\n",
    "print(\"Percent gated as Cytotoxic Naive: \", cd3cd8sample.gate(naivecd3cd8gate).counts/cd3cd8sample.counts*100., \"%\")"
   ]
  },
  {
   "cell_type": "markdown",
   "metadata": {},
   "source": [
    "The shape is slightly different than to S3(E) since it is missing the first peak."
   ]
  },
  {
   "cell_type": "code",
   "execution_count": null,
   "metadata": {},
   "outputs": [],
   "source": []
  }
 ],
 "metadata": {
  "kernelspec": {
   "display_name": "Python 3",
   "language": "python",
   "name": "python3"
  },
  "language_info": {
   "codemirror_mode": {
    "name": "ipython",
    "version": 3
   },
   "file_extension": ".py",
   "mimetype": "text/x-python",
   "name": "python",
   "nbconvert_exporter": "python",
   "pygments_lexer": "ipython3",
   "version": "3.7.7"
  }
 },
 "nbformat": 4,
 "nbformat_minor": 4
}
