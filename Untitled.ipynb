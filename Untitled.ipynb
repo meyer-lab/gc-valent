{
 "cells": [
  {
   "cell_type": "code",
   "execution_count": 1,
   "metadata": {},
   "outputs": [],
   "source": [
    "import FlowCytometryTools\n",
    "\n",
    "from FlowCytometryTools import FCMeasurement\n",
    "\n",
    "\n",
    "\n",
    "sample = FCMeasurement(ID='Test Sample', datafile='./ckine/data/PBMC-flow/prelim-expt/Well_A01_T_helper_memory.fcs')\n",
    "sample = FCMeasurement(ID='Test Sample', datafile='./ckine/data/PBMC-flow/prelim-expt/Well_A01_T_helper_memory.fcs')"
   ]
  },
  {
   "cell_type": "code",
   "execution_count": 3,
   "metadata": {},
   "outputs": [
    {
     "name": "stdout",
     "output_type": "stream",
     "text": [
      "                $PnB      $PnR   $PnN    $PnE   $PnS\n",
      "Channel Number                                      \n",
      "1                 32  16777216  FSC-H  [0, 0]  FSC-H\n",
      "2                 32  16777216  SSC-H  [0, 0]  SSC-H\n",
      "3                 32  16777216  BL1-H  [0, 0]  BL1-H\n",
      "4                 32  16777216  BL2-H  [0, 0]  BL2-H\n",
      "5                 32  16777216  BL3-H  [0, 0]  BL3-H\n",
      "6                 32  16777216  BL4-H  [0, 0]  BL4-H\n",
      "7                 32  16777216  BL5-H  [0, 0]  BL5-H\n",
      "8                 32  16777216  RL1-H  [0, 0]  RL1-H\n",
      "9                 32  16777216  RL2-H  [0, 0]  RL2-H\n",
      "10                32  16777216  VL1-H  [0, 0]  VL1-H\n",
      "11                32  16777216  VL2-H  [0, 0]  VL2-H\n",
      "12                32  16777216  VL3-H  [0, 0]  VL3-H\n",
      "13                32  16777216  VL4-H  [0, 0]  VL4-H\n",
      "14                32  16777216  VL5-H  [0, 0]  VL5-H\n",
      "15                32  16777216  VL6-H  [0, 0]  VL6-H\n",
      "16                32  16777216  FSC-A  [0, 0]  FSC-A\n",
      "17                32  16777216  SSC-A  [0, 0]  SSC-A\n",
      "18                32  16777216  BL1-A  [0, 0]  BL1-A\n",
      "19                32  16777216  BL2-A  [0, 0]  BL2-A\n",
      "20                32  16777216  BL3-A  [0, 0]  BL3-A\n",
      "21                32  16777216  BL4-A  [0, 0]  BL4-A\n",
      "22                32  16777216  BL5-A  [0, 0]  BL5-A\n",
      "23                32  16777216  RL1-A  [0, 0]  RL1-A\n",
      "24                32  16777216  RL2-A  [0, 0]  RL2-A\n",
      "25                32  16777216  VL1-A  [0, 0]  VL1-A\n",
      "26                32  16777216  VL2-A  [0, 0]  VL2-A\n",
      "27                32  16777216  VL3-A  [0, 0]  VL3-A\n",
      "28                32  16777216  VL4-A  [0, 0]  VL4-A\n",
      "29                32  16777216  VL5-A  [0, 0]  VL5-A\n",
      "30                32  16777216  VL6-A  [0, 0]  VL6-A\n",
      "31                32  16777216  Width  [0, 0]  Width\n",
      "32                32  16777216   Time  [0, 0]   Time\n"
     ]
    }
   ],
   "source": [
    "print(sample.channels)"
   ]
  },
  {
   "cell_type": "code",
   "execution_count": 5,
   "metadata": {},
   "outputs": [
    {
     "data": {
      "image/png": "[encoded data removed]",
      "text/plain": [
       "<Figure size 432x288 with 1 Axes>"
      ]
     },
     "metadata": {
      "needs_background": "light"
     },
     "output_type": "display_data"
    }
   ],
   "source": [
    "sample.plot('BL3-A');"
   ]
  },
  {
   "cell_type": "code",
   "execution_count": null,
   "metadata": {},
   "outputs": [],
   "source": []
  }
 ],
 "metadata": {
  "kernelspec": {
   "display_name": "Python 3",
   "language": "python",
   "name": "python3"
  },
  "language_info": {
   "codemirror_mode": {
    "name": "ipython",
    "version": 3
   },
   "file_extension": ".py",
   "mimetype": "text/x-python",
   "name": "python",
   "nbconvert_exporter": "python",
   "pygments_lexer": "ipython3",
   "version": "3.7.3"
  }
 },
 "nbformat": 4,
 "nbformat_minor": 2
}
